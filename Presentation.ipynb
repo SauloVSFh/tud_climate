{
 "cells": [
  {
   "cell_type": "markdown",
   "id": "5e1638ee-6246-48df-b543-c853c890920e",
   "metadata": {
    "slideshow": {
     "slide_type": "slide"
    }
   },
   "source": [
    "# Presentation Climate Modelling"
   ]
  },
  {
   "cell_type": "code",
   "execution_count": 306,
   "id": "a6666cce-023f-4f51-9231-201b9c5245ef",
   "metadata": {
    "slideshow": {
     "slide_type": "skip"
    }
   },
   "outputs": [],
   "source": [
    "import os\n",
    "import numpy as np\n",
    "import pandas as pd\n",
    "import matplotlib.pyplot as plt\n",
    "import panel as pn\n",
    "import hvplot.pandas as hv\n",
    "import xarray as xr\n",
    "import hvplot.xarray\n",
    "import cartopy.crs as ccrs\n",
    "from scipy.interpolate import griddata\n",
    "from scipy import interpolate\n",
    "import geopandas as gpd\n",
    "import colorcet as cc\n",
    "from colorcet.plotting import swatch, swatches\n",
    "from operator import itemgetter "
   ]
  },
  {
   "cell_type": "code",
   "execution_count": 307,
   "id": "9618a22d-9b4f-448f-b1b2-088e02b945cc",
   "metadata": {
    "slideshow": {
     "slide_type": "skip"
    }
   },
   "outputs": [],
   "source": [
    "os.chdir('D:\\\\OneDrive\\\\GroundwatCh\\\\TUD\\\\Climate\\\\Modelling\\\\EdGCM\\\\Output/Doubled_CO2_2/diagnostics_Doubled_CO2_2/plots_Doubled_CO2_2/Doubled_CO2_2_2005-2100')\n",
    "files_lst = [file for file in os.listdir()]\n",
    "var_names_lst = [file.split('_')[-1].split('.')[0] for file in files_lst]"
   ]
  },
  {
   "cell_type": "code",
   "execution_count": 308,
   "id": "168c783f-b836-4500-8567-5fad20ed2c81",
   "metadata": {
    "slideshow": {
     "slide_type": "skip"
    }
   },
   "outputs": [],
   "source": [
    "files_lst = ['Doubled_CO2_2_EVAPOR.xls','Doubled_CO2_2_PRECIP.xls', 'Doubled_CO2_2_SRFAIRTMP.xls']\n",
    "var_names_dct = {'Evaporation' : 'mm/day',\n",
    "                 'Precipitation': 'mm/day',\n",
    "                 'Surface air temperature' : '°C'}"
   ]
  },
  {
   "cell_type": "code",
   "execution_count": 309,
   "id": "98954c45",
   "metadata": {},
   "outputs": [],
   "source": [
    "def DataFrame (index):\n",
    "    #trying one file\n",
    "    fn_i = index\n",
    "    fn = files_lst[index]\n",
    "    df = pd.read_csv(fn, sep = '\\t', header = 1).rename(columns = {' Years' : 'Years'})\n",
    "    df['category'] = index\n",
    "   \n",
    "    return df"
   ]
  },
  {
   "cell_type": "code",
   "execution_count": 310,
   "id": "9698a78c",
   "metadata": {},
   "outputs": [],
   "source": [
    "Etp_df = DataFrame(0)\n",
    "P_df = DataFrame(1)\n",
    "Sat_df = DataFrame(2)"
   ]
  },
  {
   "cell_type": "code",
   "execution_count": 311,
   "id": "1387c32c",
   "metadata": {
    "slideshow": {
     "slide_type": "skip"
    }
   },
   "outputs": [],
   "source": [
    "df = pd.concat([Etp_df, P_df, Sat_df])\n",
    "df.loc [ df.category == 0, 'category'] = 'Evapotranspiration mm/day'\n",
    "df.loc [ df.category == 1, 'category'] = 'Precipitation mm/day'\n",
    "df.loc [ df.category == 2, 'category'] = 'Surface Air Temperature °C'"
   ]
  },
  {
   "cell_type": "code",
   "execution_count": 312,
   "id": "dbb6499e-124f-44c4-bb5a-dd768517da63",
   "metadata": {},
   "outputs": [],
   "source": [
    "text1 = pn.pane.Markdown ('''\n",
    "# <center>Simulations for twice the concentration of carbon dioxide by 2100</center>\n",
    "<br>\n",
    "<center>*Presentation by: Saulo Vieira da Silva Filho*</center>\n",
    "''',\n",
    "                          align = 'center', style = {'font-size' : '1.5em'})\n",
    "r0 =   pn.layout.VSpacer()\n",
    "c0  =  pn.layout.HSpacer(width = 100)\n",
    "r1 = pn.Column(c0,text1, align = 'center')\n",
    "\n",
    "col = pn.Row(r1, align = 'center', margin = (200, 300, 200, 300))\n",
    "tabs = pn.Tabs(('Title', col))"
   ]
  },
  {
   "cell_type": "code",
   "execution_count": 313,
   "id": "54cbd2c9-f075-4789-b1db-9d1288af44e3",
   "metadata": {
    "slideshow": {
     "slide_type": "skip"
    }
   },
   "outputs": [],
   "source": [
    "pn.config.sizing_mode=\"stretch_width\"\n",
    "width = 1400\n",
    "\n",
    "\n",
    "text = pn.pane.Markdown('''\n",
    "## Time series - average surface temperature\n",
    "<br>\n",
    "**1.** <ins> Slight increase of all variables </ins>.  Overall, the variables increase and stabilize together, and a <ins> logical order is \n",
    "observed </ins> in which the open <ins> ocean has the greatest absolute values, followed by the ocean. Land has intermediate values and oceanic ice, \n",
    "the lowest. </ins>\n",
    "<br>\n",
    "**2.** The breakthrough curves <ins> flatten off in around 2060 </ins>\n",
    "<br>\n",
    "**3.** <ins> Lower average values </ins> in continental areas\n",
    "<br>\n",
    "**4.** Neligible decrease of evapotranspiration from oceanic ice sheets\n",
    "<br>\n",
    "**5.** Precipitation has stronger oscillation that the two other variables previously presented\n",
    "    - Stronger oscillation of Precipitation in oceanic ice sheets\n",
    "\n",
    "''', width = width ,\n",
    "                        margin = (10,10,30,10),\n",
    "                        style={'font-size': '1.2em'}\n",
    ")\n",
    "\n",
    "\n",
    "########### SAT\n",
    "df_ = df [df.category.str.startswith('Surf') ]\n",
    "Sat_plot = df_.hvplot.line(x = 'Years', y = df_.columns[1:-1],\n",
    "                           ylabel = df_.category.unique()[0],\n",
    "                           title = 'Time series for twice the [CO2] of pre-industrial levels (1958) ',\n",
    "                            height = 500, shared_axes=False)\n",
    "\n",
    "r1 = pn.Row (text, width = width)\n",
    "r2 = pn.Row (Sat_plot, width = width,  align = 'center')\n",
    "Sat_col = pn.Column(r1,r2,align = 'center', )\n",
    "\n",
    "\n",
    "\n",
    "########### evapotranspiration\n",
    "\n",
    "text = pn.pane.Markdown('''\n",
    "## Time series - average evapotranspiration\n",
    "<br>\n",
    "**1.** <ins> Slight increase of all variables </ins>.  Overall, the variables increase and stabilize together, and a <ins> logical order is \n",
    "observed </ins> in which the open <ins> ocean has the greatest absolute values, followed by the ocean. Land has intermediate values and oceanic ice, \n",
    "the lowest. </ins>\n",
    "<br>\n",
    "**2.** The breakthrough curves <ins> flatten off in around 2060 </ins>\n",
    "<br>\n",
    "**3.** <ins> Lower average values </ins> in continental areas\n",
    "<br>\n",
    "**4.** **Neligible decrease of evapotranspiration from oceanic ice sheets **\n",
    "    - It might be related to its decrease in volume \n",
    "<br>\n",
    "**5.** Precipitation has stronger oscillation that the two others encompassed by this presentation\n",
    "    - Stronger oscillation of Precipitation in oceanic ice sheets\n",
    "\n",
    "\n",
    "''', width = width ,\n",
    "                        margin = (10,10,30,10),\n",
    "                        style={'font-size': '1.2em'}\n",
    ")\n",
    "\n",
    "df_ = df [ df.category.str.startswith('Ev') ]\n",
    "Etp_plot = df_.hvplot.line(x = 'Years', y = df_.columns[1:-1],\n",
    "                           ylabel = df_.category.unique()[0],\n",
    "                           title = 'Time series for twice the [CO2] of pre-industrial levels (1958) ',\n",
    "                            height = 500,  ylim= (0,5), shared_axes=False)     \n",
    "r1 = pn.Row (text, width = width)\n",
    "r2 = pn.Row (Etp_plot, width_policy = \"auto\")\n",
    "Etp_col = pn.Column(r1,r2, align = 'center')\n",
    "\n",
    "\n",
    "\n",
    "########### prectipitation\n",
    "\n",
    "text = pn.pane.Markdown('''\n",
    "## Time series - average precipitation\n",
    "<br>\n",
    "**1.** <ins> Slight increase of all variables </ins>.  Overall, the variables increase and stabilize together, and a <ins> logical order is \n",
    "observed </ins> in which the open <ins> ocean has the greatest absolute values, followed by the ocean. Land has intermediate values and oceanic ice, \n",
    "the lowest. </ins>\n",
    "<br>\n",
    "**2.** The breakthrough curves <ins> flatten off in around 2060 </ins>\n",
    "<br>\n",
    "**3.** <ins> Lower average values </ins> in continental areas\n",
    "<br>\n",
    "**4.** Neligible decrease of evapotranspiration from oceanic ice sheets\n",
    "    - It might be related to its decrease in volume \n",
    "<br>\n",
    "**5.** **Precipitation has stronger oscillation** that the two others encompassed by this presentation\n",
    "    - Stronger oscillation of Precipitation in oceanic ice sheets\n",
    "\n",
    "\n",
    "''', width = width ,\n",
    "                        margin = (10,10,30,10),\n",
    "                        style={'font-size': '1.2em'}\n",
    ")\n",
    "\n",
    "df_ = df [ df.category.str.startswith('Pr') ]\n",
    "P_plot = df_.hvplot.line(x = 'Years', y = df_.columns[1:-1],\n",
    "                           ylabel = df_.category.unique()[0],\n",
    "                           title = 'Time series for twice the [CO2] of pre-industrial levels (1958) ',\n",
    "                            height = 500, ylim= (0,5), shared_axes=False)            \n",
    "\n",
    "r1 = pn.Row (text, width = width)\n",
    "r2 = pn.Row (P_plot, width = width,  align = 'center')\n",
    "P_col = pn.Column(r1,r2, align = 'center',)\n",
    "\n",
    "\n",
    "########### append\n",
    "\n",
    "\n",
    "tabs.append(('TS - SAT', Sat_col))\n",
    "tabs.append(('TS - Etp', Etp_col))\n",
    "tabs.append(('TS - P', P_col))"
   ]
  },
  {
   "cell_type": "markdown",
   "id": "f117e11e",
   "metadata": {
    "tags": []
   },
   "source": [
    "## Comparison of decadal output\n",
    "\n",
    "\n",
    "1. first and last decade for trend simulation (linear, exponential, IPCC6)\n",
    "2. Last decades of equilibrium simulations and controlrun2005 (data available)"
   ]
  },
  {
   "cell_type": "markdown",
   "id": "7f57e92b-bd95-433d-aef1-5ccae1069ac6",
   "metadata": {},
   "source": []
  },
  {
   "cell_type": "code",
   "execution_count": 314,
   "id": "dd16c370",
   "metadata": {},
   "outputs": [
    {
     "data": {
      "text/plain": [
       "['Control2005.2001-2010ij.nc',\n",
       " 'Control2005.2091-2100ij.nc',\n",
       " 'Doubled_CO2_2.2005-2020ij.nc',\n",
       " 'Doubled_CO2_2.2091-2100ij.nc']"
      ]
     },
     "execution_count": 314,
     "metadata": {},
     "output_type": "execute_result"
    }
   ],
   "source": [
    "os.chdir('d:\\\\OneDrive\\\\GroundwatCh\\\\TUD\\Climate\\\\Modelling\\\\EdGCM\\\\Output\\\\Doubled_CO2_2\\\\diagnostics_Doubled_CO2_2\\\\maps_Doubled_CO2_2')\n",
    "os.listdir()"
   ]
  },
  {
   "cell_type": "markdown",
   "id": "1ec6ddc6",
   "metadata": {},
   "source": [
    "### 2CO2 simulation 2005-2020"
   ]
  },
  {
   "cell_type": "code",
   "execution_count": 315,
   "id": "733d9242",
   "metadata": {
    "tags": []
   },
   "outputs": [
    {
     "name": "stderr",
     "output_type": "stream",
     "text": [
      "WARNING:param.Image240741: Image dimension latitude is not evenly sampled to relative tolerance of 0.001. Please use the QuadMesh element for irregularly sampled data or set a higher tolerance on hv.config.image_rtol or the rtol parameter in the Image constructor.\n",
      "WARNING:param.Image240741: Image dimension latitude is not evenly sampled to relative tolerance of 0.001. Please use the QuadMesh element for irregularly sampled data or set a higher tolerance on hv.config.image_rtol or the rtol parameter in the Image constructor.\n",
      "WARNING:param.Image240879: Image dimension latitude is not evenly sampled to relative tolerance of 0.001. Please use the QuadMesh element for irregularly sampled data or set a higher tolerance on hv.config.image_rtol or the rtol parameter in the Image constructor.\n",
      "WARNING:param.Image240879: Image dimension latitude is not evenly sampled to relative tolerance of 0.001. Please use the QuadMesh element for irregularly sampled data or set a higher tolerance on hv.config.image_rtol or the rtol parameter in the Image constructor.\n",
      "WARNING:param.Image241017: Image dimension latitude is not evenly sampled to relative tolerance of 0.001. Please use the QuadMesh element for irregularly sampled data or set a higher tolerance on hv.config.image_rtol or the rtol parameter in the Image constructor.\n",
      "WARNING:param.Image241017: Image dimension latitude is not evenly sampled to relative tolerance of 0.001. Please use the QuadMesh element for irregularly sampled data or set a higher tolerance on hv.config.image_rtol or the rtol parameter in the Image constructor.\n"
     ]
    }
   ],
   "source": [
    "pn.config.sizing_mode=\"stretch_width\"\n",
    "\n",
    "#OPENING 2010-2020\n",
    "ds = xr.open_dataset('Doubled_CO2_2.2005-2020ij.nc')\n",
    "months_lst = list(ds.months.to_numpy())\n",
    "\n",
    "etp_cscale = (0, 10)\n",
    "p_cscale = (0,14)\n",
    "t_cscale = (-50,40)\n",
    "\n",
    "\n",
    "#params\n",
    "width = 700; height = int(width / 2.2)\n",
    "\n",
    "#frame\n",
    "world = gpd.read_file(gpd.datasets.get_path(\"naturalearth_lowres\")   )\n",
    "\n",
    "#etp\n",
    "da = ds.Evap.sel(months = months_lst[-1] )\n",
    "word_plt = world.hvplot( width = width, height = height , color = None) \n",
    "nc_plot = da.hvplot.image(x = 'longitude', y = 'latitude',\n",
    "                          width = width, height = height, cmap = 'jet',\n",
    "                          title = '''Annual Evapotranspiration [{}]: 1st decade'''.format(da.attrs[\"units\"]),\n",
    "                            clim = etp_cscale)\n",
    "yr_etp_plt = (nc_plot * word_plt )\n",
    "\n",
    "\n",
    "#P\n",
    "da = ds.Precip.sel(months = months_lst[-1] )\n",
    "word_plt = world.hvplot( width = width, height = height , color = None) \n",
    "nc_plot = da.hvplot.image(x = 'longitude', y = 'latitude',\n",
    "                          width = width, height = height, cmap = 'jet_r',\n",
    "                          title = 'Annual Precipitation [{}]: 1st decade'.format(da.attrs['units']),\n",
    "                         clim = p_cscale)\n",
    "yr_p_plt = (nc_plot * word_plt )\n",
    "\n",
    "\n",
    "#SAT\n",
    "da = ds.SurfAirTemp.sel(months = months_lst[-1] )\n",
    "word_plt = world.hvplot( width = width, height = height , color = None) \n",
    "nc_plot = da.hvplot.image(x = 'longitude', y = 'latitude',\n",
    "                          width = width, height = height, cmap = 'jet', \n",
    "                          title = 'Annual Surface air Temperature [{}]: 1st decade'.format(da.attrs['units']),\n",
    "                         clim = t_cscale)\n",
    "yr_sat_plt = (nc_plot * word_plt )\n",
    "\n",
    "\n",
    "\n",
    "\n",
    "\n",
    "text = pn.pane.Markdown('''\n",
    "### General characteristics \n",
    "* <ins> Wetter </ins> regions evapotranspirate more. <ins> Wettest </ins> area is Moonson Asia.\n",
    "<br>\n",
    "* <ins> Lowest </ins> temperature in Antartica\n",
    "<br>\n",
    "### Constraints (South America)\n",
    "* The <ins> coarse resolution </ins> of the model output can be <ins> misleading </ins> if used at a country scale.\n",
    "<br>\n",
    "* In the case of <ins>South America</ins>, the continent chosen in the first presentation, we observe <ins> non-expected patterns</ins> \n",
    "in the pixels that sorround the Amazon rain-forest.\n",
    "    * Precipitation in the biome Caatinga should be lower than <ins> 8 mm/day </ins>.\n",
    "    <br>\n",
    "    * The <ins> Amazon rain-forest should not have bigger evapotranspiration than Caatinga. </ins>\n",
    "''', width = width , style={'font-size': '1.2em'}, margin = (30,30,10,30)\n",
    ")\n",
    "\n",
    "\n",
    "\n",
    "title = pn.pane.Markdown('# Maps - Twice [CO2] for the 1st decade')\n",
    "row1 = pn.Row(yr_etp_plt, yr_p_plt)\n",
    "row2 = pn.Row(yr_sat_plt,text)\n",
    "col_sim_20052020 = pn.Column (title,row1, row2, margin = (0,0,0,0))\n",
    "\n",
    "tabs.append(('Map_abs_1dec', col_sim_20052020))"
   ]
  },
  {
   "cell_type": "markdown",
   "id": "42fede51",
   "metadata": {
    "tags": []
   },
   "source": [
    "### 2CO2  2091-2100"
   ]
  },
  {
   "cell_type": "code",
   "execution_count": 316,
   "id": "d37f5c27",
   "metadata": {
    "tags": []
   },
   "outputs": [
    {
     "name": "stderr",
     "output_type": "stream",
     "text": [
      "WARNING:param.Image241177: Image dimension latitude is not evenly sampled to relative tolerance of 0.001. Please use the QuadMesh element for irregularly sampled data or set a higher tolerance on hv.config.image_rtol or the rtol parameter in the Image constructor.\n",
      "WARNING:param.Image241177: Image dimension latitude is not evenly sampled to relative tolerance of 0.001. Please use the QuadMesh element for irregularly sampled data or set a higher tolerance on hv.config.image_rtol or the rtol parameter in the Image constructor.\n",
      "WARNING:param.Image241315: Image dimension latitude is not evenly sampled to relative tolerance of 0.001. Please use the QuadMesh element for irregularly sampled data or set a higher tolerance on hv.config.image_rtol or the rtol parameter in the Image constructor.\n",
      "WARNING:param.Image241315: Image dimension latitude is not evenly sampled to relative tolerance of 0.001. Please use the QuadMesh element for irregularly sampled data or set a higher tolerance on hv.config.image_rtol or the rtol parameter in the Image constructor.\n",
      "WARNING:param.Image241453: Image dimension latitude is not evenly sampled to relative tolerance of 0.001. Please use the QuadMesh element for irregularly sampled data or set a higher tolerance on hv.config.image_rtol or the rtol parameter in the Image constructor.\n",
      "WARNING:param.Image241453: Image dimension latitude is not evenly sampled to relative tolerance of 0.001. Please use the QuadMesh element for irregularly sampled data or set a higher tolerance on hv.config.image_rtol or the rtol parameter in the Image constructor.\n"
     ]
    }
   ],
   "source": [
    "#OPENING 2010-2020\n",
    "ds = xr.open_dataset('Doubled_CO2_2.2091-2100ij.nc')\n",
    "months_lst = list(ds.months.to_numpy())\n",
    "\n",
    "#params\n",
    "width = 700; height = int(width / 2.2)\n",
    "\n",
    "#frame\n",
    "world = gpd.read_file(gpd.datasets.get_path(\"naturalearth_lowres\")   )\n",
    "\n",
    "#etp\n",
    "da = ds.Evap.sel(months = months_lst[-1] )\n",
    "word_plt = world.hvplot( width = width, height = height , color = None) \n",
    "nc_plot = da.hvplot.image(x = 'longitude', y = 'latitude',\n",
    "                          width = width, height = height, cmap = 'jet',\n",
    "                          title = '''Annual Evapotranspiration [{}]: last decade'''.format(da.attrs[\"units\"]),\n",
    "                         clim = etp_cscale)\n",
    "yr_etp_plt = (nc_plot * word_plt )\n",
    "\n",
    "\n",
    "#P\n",
    "da = ds.Precip.sel(months = months_lst[-1] )\n",
    "word_plt = world.hvplot( width = width, height = height , color = None) \n",
    "nc_plot = da.hvplot.image(x = 'longitude', y = 'latitude',\n",
    "                          width = width, height = height, cmap = 'jet_r',\n",
    "                          title = 'Annual Precipitation [{}]: last decade'.format(da.attrs['units']),\n",
    "                         clim = p_cscale)\n",
    "yr_p_plt = (nc_plot * word_plt )\n",
    "\n",
    "\n",
    "#SAT\n",
    "da = ds.SurfAirTemp.sel(months = months_lst[-1] )\n",
    "word_plt = world.hvplot( width = width, height = height , color = None) \n",
    "nc_plot = da.hvplot.image(x = 'longitude', y = 'latitude',\n",
    "                          width = width, height = height, cmap = 'jet', \n",
    "                          title = 'Annual Surface air Temperature [{}]: last decade'.format(da.attrs['units']),\n",
    "                         clim = t_cscale)\n",
    "yr_sat_plt = (nc_plot * word_plt )\n",
    "\n",
    "\n",
    "\n",
    "text = pn.pane.Markdown('''\n",
    "### General characteristics\n",
    "* <ins>Same patterns</ins> are observed in the last decade.\n",
    "<br>\n",
    "<br>\n",
    "* Temperature and evapotranspiration <ins>increase.</ins>\n",
    "<br>\n",
    "<br>\n",
    "* <ins>Precipitation increases in ocean and coastal areas<ins>.\n",
    "\n",
    "''', width = width , style={'font-size': '1.2em'}, margin = (30,30,10,30)\n",
    ")\n",
    "\n",
    "\n",
    "\n",
    "\n",
    "title = pn.pane.Markdown('# Maps - Twice [CO2] for the last decade')\n",
    "row1 = pn.Row(yr_etp_plt, yr_p_plt)\n",
    "row2 = pn.Row( yr_sat_plt, text)\n",
    "col_sim_20912100 = pn.Column (title,row1, row2, margin = (0,0,0,0))\n",
    "\n",
    "tabs.append(('Map_abs_2dec', col_sim_20912100))"
   ]
  },
  {
   "cell_type": "markdown",
   "id": "7698722c",
   "metadata": {},
   "source": [
    "### 2CO2 - Comparison - first an last decade for trend simulation (linear, exponential, IPCC6)"
   ]
  },
  {
   "cell_type": "code",
   "execution_count": 317,
   "id": "1f2770d8",
   "metadata": {},
   "outputs": [],
   "source": [
    "## creating colormap\n",
    "neg = cc.coolwarm[:128]\n",
    "pos = cc.coolwarm[128:]\n",
    "index = np.linspace(0,len(neg)-1,40).astype(int)\n",
    "neg = itemgetter(*index)(neg)\n",
    "\n",
    "custom_cmap = list(neg) + pos\n",
    "\n",
    "custom = swatch( name = 'custom', cmap = custom_cmap)"
   ]
  },
  {
   "cell_type": "code",
   "execution_count": 318,
   "id": "52ed3d20",
   "metadata": {},
   "outputs": [
    {
     "name": "stderr",
     "output_type": "stream",
     "text": [
      "WARNING:param.Image241672: Image dimension latitude is not evenly sampled to relative tolerance of 0.001. Please use the QuadMesh element for irregularly sampled data or set a higher tolerance on hv.config.image_rtol or the rtol parameter in the Image constructor.\n",
      "WARNING:param.Image241672: Image dimension latitude is not evenly sampled to relative tolerance of 0.001. Please use the QuadMesh element for irregularly sampled data or set a higher tolerance on hv.config.image_rtol or the rtol parameter in the Image constructor.\n",
      "WARNING:param.Image241810: Image dimension latitude is not evenly sampled to relative tolerance of 0.001. Please use the QuadMesh element for irregularly sampled data or set a higher tolerance on hv.config.image_rtol or the rtol parameter in the Image constructor.\n",
      "WARNING:param.Image241810: Image dimension latitude is not evenly sampled to relative tolerance of 0.001. Please use the QuadMesh element for irregularly sampled data or set a higher tolerance on hv.config.image_rtol or the rtol parameter in the Image constructor.\n",
      "WARNING:param.Image241948: Image dimension latitude is not evenly sampled to relative tolerance of 0.001. Please use the QuadMesh element for irregularly sampled data or set a higher tolerance on hv.config.image_rtol or the rtol parameter in the Image constructor.\n",
      "WARNING:param.Image241948: Image dimension latitude is not evenly sampled to relative tolerance of 0.001. Please use the QuadMesh element for irregularly sampled data or set a higher tolerance on hv.config.image_rtol or the rtol parameter in the Image constructor.\n"
     ]
    }
   ],
   "source": [
    "fn2005 = 'Doubled_CO2_2.2005-2020ij.nc'\n",
    "fn2091 =  'Doubled_CO2_2.2091-2100ij.nc'\n",
    "ds2005 = xr.open_dataset(fn2005)\n",
    "ds2091 = xr.open_dataset(fn2091)\n",
    "\n",
    "#difference in the decade\n",
    "ds = ds2091 - ds2005 #delta variables\n",
    "ds.attrs = ds2005.attrs\n",
    "months_lst = list(ds.months.to_numpy())\n",
    "ds = ds.sel(months = months_lst[-1]) #get only annual values\n",
    "\n",
    "d_etp_clim = (-2,2)\n",
    "d_p_clim = (-3,3)\n",
    "d_t_clim = (0,10)\n",
    "\n",
    "#params\n",
    "width = 700; height = int(width / 2.2)\n",
    "\n",
    "#frame\n",
    "world = gpd.read_file(gpd.datasets.get_path(\"naturalearth_lowres\")   )\n",
    "\n",
    "#etp\n",
    "da = ds.Evap\n",
    "da.attrs = ds2005.Evap.attrs\n",
    "word_plt = world.hvplot( width = width, height = height , color = None) \n",
    "nc_plot = da.hvplot.image(x = 'longitude', y = 'latitude',\n",
    "                          width = width, height = height, cmap = cc.coolwarm,\n",
    "                          title = '''Annual Evapotranspiration [{}] '''.format(da.attrs[\"units\"]),\n",
    "                            clim = d_etp_clim)\n",
    "yr_etp_plt = (nc_plot * word_plt )\n",
    "\n",
    "\n",
    "#P\n",
    "da = ds.Precip\n",
    "da.attrs = ds2005.Precip.attrs\n",
    "word_plt = world.hvplot( width = width, height = height , color = None) \n",
    "nc_plot = da.hvplot.image(x = 'longitude', y = 'latitude',\n",
    "                          width = width, height = height, cmap = cc.coolwarm[::-1],\n",
    "                          title = 'Annual Precipitation [{}]'.format(da.attrs['units']),\n",
    "                             clim = d_p_clim)\n",
    "yr_p_plt = (nc_plot * word_plt )\n",
    "\n",
    "\n",
    "#SAT\n",
    "da = ds.SurfAirTemp\n",
    "da.attrs = ds2005.SurfAirTemp.attrs\n",
    "word_plt = world.hvplot( width = width, height = height , color = None) \n",
    "nc_plot = da.hvplot.image(x = 'longitude', y = 'latitude',\n",
    "                          width = width, height = height, cmap = 'jet', \n",
    "                          title = 'Annual Surface air Temperature [{}]'.format(da.attrs['units']),\n",
    "                             clim = d_t_clim)\n",
    "yr_sat_plt = (nc_plot * word_plt )\n",
    "\n",
    "\n",
    "text = pn.pane.Markdown('''\n",
    "<br>\n",
    "**1.** Rainier regions evapotranspirate more\n",
    "<br>\n",
    "<br>\n",
    "**2.** Temperature and evapotranspiration increase\n",
    "<br>\n",
    "<br>\n",
    "**3.** Precipitation increases in some portions: ocean and coastal areas\n",
    "<br>\n",
    "<br>\n",
    "**4.** Highest increase of temperature is in the southern hemisphere - **Antarctic Peninsula can reach almost 10 degrees** difference on yearly averages\n",
    "<br>\n",
    "<br>\n",
    "**5.** Temperatures differences in South America range between 2 and 4 celsius degrees\n",
    "\n",
    "''', width = width , style={'font-size': '1.2em'}, margin = (10,30,10,30)\n",
    ")\n",
    "\n",
    "\n",
    "title = pn.pane.Markdown('# Maps - Scenario Simulations - first and last decade for the 2[CO2] scenario')\n",
    "row1 = pn.Row(yr_etp_plt, yr_p_plt)\n",
    "row2 = pn.Row(yr_sat_plt, text)\n",
    "col_delta_sim = pn.Column (title,row1, row2, margin = (0,0,0,0)) #delta simulation\n",
    "\n",
    "tabs.append(('Map_d_sim', col_delta_sim))"
   ]
  },
  {
   "cell_type": "markdown",
   "id": "fa87c8d5",
   "metadata": {
    "tags": []
   },
   "source": [
    "### 2CO2 - Comparison - Last decades of equilibrium simulations and controlrun2005 (data available)"
   ]
  },
  {
   "cell_type": "code",
   "execution_count": 319,
   "id": "14db69ae",
   "metadata": {},
   "outputs": [],
   "source": [
    "## creating colormap\n",
    "neg = cc.coolwarm[:128]\n",
    "pos = cc.coolwarm[128:]\n",
    "index = np.linspace(0,len(neg)-1,40).astype(int)\n",
    "neg = itemgetter(*index)(neg)\n",
    "\n",
    "custom_cmap = list(neg) + pos\n",
    "\n",
    "custom = swatch( name = 'custom', cmap = custom_cmap)"
   ]
  },
  {
   "cell_type": "code",
   "execution_count": 320,
   "id": "b87d49bd",
   "metadata": {
    "tags": []
   },
   "outputs": [
    {
     "name": "stderr",
     "output_type": "stream",
     "text": [
      "WARNING:param.Image242167: Image dimension latitude is not evenly sampled to relative tolerance of 0.001. Please use the QuadMesh element for irregularly sampled data or set a higher tolerance on hv.config.image_rtol or the rtol parameter in the Image constructor.\n",
      "WARNING:param.Image242167: Image dimension latitude is not evenly sampled to relative tolerance of 0.001. Please use the QuadMesh element for irregularly sampled data or set a higher tolerance on hv.config.image_rtol or the rtol parameter in the Image constructor.\n",
      "WARNING:param.Image242305: Image dimension latitude is not evenly sampled to relative tolerance of 0.001. Please use the QuadMesh element for irregularly sampled data or set a higher tolerance on hv.config.image_rtol or the rtol parameter in the Image constructor.\n",
      "WARNING:param.Image242305: Image dimension latitude is not evenly sampled to relative tolerance of 0.001. Please use the QuadMesh element for irregularly sampled data or set a higher tolerance on hv.config.image_rtol or the rtol parameter in the Image constructor.\n",
      "WARNING:param.Image242443: Image dimension latitude is not evenly sampled to relative tolerance of 0.001. Please use the QuadMesh element for irregularly sampled data or set a higher tolerance on hv.config.image_rtol or the rtol parameter in the Image constructor.\n",
      "WARNING:param.Image242443: Image dimension latitude is not evenly sampled to relative tolerance of 0.001. Please use the QuadMesh element for irregularly sampled data or set a higher tolerance on hv.config.image_rtol or the rtol parameter in the Image constructor.\n"
     ]
    }
   ],
   "source": [
    "fncontrol = 'Control2005.2091-2100ij.nc'\n",
    "fnsim =  'Doubled_CO2_2.2091-2100ij.nc'\n",
    "dsc = xr.open_dataset(fncontrol)\n",
    "dss = xr.open_dataset(fnsim)\n",
    "#difference in the decade\n",
    "\n",
    "ds = dss - dsc #delta variables\n",
    "months_lst = list(dsc.months.to_numpy())\n",
    "ds = ds.sel(months = months_lst[-1] )\n",
    "\n",
    "#params\n",
    "width = 700; height = int(width / 2.2)\n",
    "\n",
    "#frame\n",
    "world = gpd.read_file(gpd.datasets.get_path(\"naturalearth_lowres\")   )\n",
    "\n",
    "#etp\n",
    "da = ds.Evap\n",
    "da.attrs = dss.Evap.attrs\n",
    "word_plt = world.hvplot( width = width, height = height , color = None) \n",
    "nc_plot = da.hvplot.image(x = 'longitude', y = 'latitude',\n",
    "                          width = width, height = height, cmap = cc.coolwarm,\n",
    "                          title = '''Annual Evapotranspiration [{}] '''.format(da.attrs[\"units\"]),\n",
    "                            clim = d_etp_clim)\n",
    "yr_etp_plt = (nc_plot * word_plt )\n",
    "\n",
    "\n",
    "#P\n",
    "da = ds.Precip\n",
    "da.attrs = dss.Precip.attrs\n",
    "word_plt = world.hvplot( width = width, height = height , color = None) \n",
    "nc_plot = da.hvplot.image(x = 'longitude', y = 'latitude',\n",
    "                          width = width, height = height, cmap = cc.coolwarm[::-1],\n",
    "                          title = 'Annual Precipitation [{}]'.format(da.attrs['units']),\n",
    "                             clim = d_p_clim)\n",
    "yr_p_plt = (nc_plot * word_plt )\n",
    "\n",
    "\n",
    "#SAT\n",
    "da = ds.SurfAirTemp\n",
    "da.attrs = dss.SurfAirTemp.attrs\n",
    "word_plt = world.hvplot( width = width, height = height , color = None) \n",
    "nc_plot = da.hvplot.image(x = 'longitude', y = 'latitude',\n",
    "                          width = width, height = height, cmap = 'jet', \n",
    "                          title = 'Annual Surface air Temperature [{}]'.format(da.attrs['units']),\n",
    "                            clim = d_t_clim)\n",
    "yr_sat_plt = (nc_plot * word_plt )\n",
    "\n",
    "\n",
    "\n",
    "text = pn.pane.Markdown('''\n",
    "<br>\n",
    "**1.** Differences are consistent with the <ins> decadal differences, but are overall bigger</ins>.\n",
    "<br>\n",
    "<br>\n",
    "**2.** Similar patterns for precipitation and evapotranspiration.\n",
    "<br>\n",
    "<br>\n",
    "**3.** Highest difference for temperature in the <ins> Antarctic Peninsula </ins>. That shows that the doubling the pre-industrial concentration of CO2 can increase \n",
    "the temperature in until 10 deegres in comparison to the control simulation.\n",
    "<br>\n",
    "<br>\n",
    "**4.** Considerable difference in the <ins>Arctic</ins>. \n",
    "''', width = width , style={'font-size': '1.2em'}, margin = (30,30,10,30)\n",
    ")\n",
    "\n",
    "\n",
    "\n",
    "\n",
    "title = pn.pane.Markdown('# Maps - differences between the last decades for the 2[CO2] scenario and control simulation')\n",
    "row1 = pn.Row(yr_etp_plt, yr_p_plt)\n",
    "row2 = pn.Row(yr_sat_plt, text)\n",
    "col_simcon = pn.Column (title,row1, row2, margin = (0,0,0,0))\n",
    "\n",
    "tabs.append (('Map_d_simxcom', col_simcon))"
   ]
  },
  {
   "cell_type": "markdown",
   "id": "89332476",
   "metadata": {
    "tags": []
   },
   "source": [
    "## Diagnostics\n",
    "\n",
    "### By latitude"
   ]
  },
  {
   "cell_type": "code",
   "execution_count": 321,
   "id": "4f0a8cb5",
   "metadata": {},
   "outputs": [
    {
     "data": {
      "text/plain": [
       "['ANN2005-2020.avgDoubled_CO2_2.xls', 'ANN2091-2100.avgDoubled_CO2_2.xls']"
      ]
     },
     "execution_count": 321,
     "metadata": {},
     "output_type": "execute_result"
    }
   ],
   "source": [
    "os.chdir('d:\\\\OneDrive\\\\GroundwatCh\\\\TUD\\\\Climate\\\\Modelling\\\\EdGCM\\\\Output\\\\Doubled_CO2_2\\\\diagnostics_Doubled_CO2_2\\\\tables_Doubled_CO2_2')\n",
    "filesreg = [file for file in os.listdir() if file.startswith('ANN') and file.endswith('g.xls')]\n",
    "files = [file for file in os.listdir() if file.startswith('ANN') and file.endswith('2.xls')]\n",
    "files"
   ]
  },
  {
   "cell_type": "code",
   "execution_count": 322,
   "id": "c68a6ec2",
   "metadata": {},
   "outputs": [],
   "source": [
    "df2005 = pd.read_csv(files[0], header = 6, sep ='\\t',  na_values=['none'],  skipinitialspace = True)\n",
    "cols = [i.replace(' ', '') for i in list(df2005.columns)]\n",
    "df2005.columns = cols\n",
    "\n",
    "df2005 = df2005 [['Latitude','PRECIP_(MM/DAY)', 'EVAPOR_(MM/DAY)', 'T_SURF_(.1_C)' , 'WATER_RUNOFF_Z0' , 'WATR_RUNOFF_MLD' ]]\n",
    "\n",
    "units = [i.replace(' ', '') for i in list(df2005.iloc[0,:])]\n",
    "df2005 = df2005.iloc[2:,:].reset_index(drop = True)\n",
    "\n",
    "#preparing dataframes\n",
    "global_df = df2005.iloc[0:24,:].reset_index(drop=True).astype('float64')\n",
    "global_df['Label'] = 'Global'\n",
    "land_df = df2005.iloc[28:28+24,:].reset_index(drop=True).astype('float64')\n",
    "land_df['Label'] = 'Land'\n",
    "ocean_df = df2005.iloc[56:56+24,:].reset_index(drop=True).astype('float64')\n",
    "ocean_df['Label'] = 'Ocean'\n",
    "oceanice_df = df2005.iloc[84:84+24].reset_index(drop=True).astype('float64')\n",
    "oceanice_df['Label'] = 'Ocean Ice'\n",
    "df = pd.concat([global_df, land_df, ocean_df, oceanice_df])\n",
    "df['Period'] = '2005-2020'"
   ]
  },
  {
   "cell_type": "code",
   "execution_count": 323,
   "id": "95ba87b7",
   "metadata": {},
   "outputs": [],
   "source": [
    "df2005 = pd.read_csv(files[1], header = 6, sep ='\\t',  na_values=['none'],  skipinitialspace = True)\n",
    "cols = [i.replace(' ', '') for i in list(df2005.columns)]\n",
    "df2005.columns = cols\n",
    "\n",
    "df2005 = df2005 [['Latitude','PRECIP_(MM/DAY)', 'EVAPOR_(MM/DAY)', 'T_SURF_(.1_C)' , 'WATER_RUNOFF_Z0' , 'WATR_RUNOFF_MLD' ]]\n",
    "\n",
    "units = [i.replace(' ', '') for i in list(df2005.iloc[0,:])]\n",
    "df2005 = df2005.iloc[2:,:].reset_index(drop = True)\n",
    "\n",
    "#preparing dataframes\n",
    "global_df = df2005.iloc[0:24,:].reset_index(drop=True).astype('float64')\n",
    "global_df['Label'] = 'Global'\n",
    "land_df = df2005.iloc[28:28+24,:].reset_index(drop=True).astype('float64')\n",
    "land_df['Label'] = 'Land'\n",
    "ocean_df = df2005.iloc[56:56+24,:].reset_index(drop=True).astype('float64')\n",
    "ocean_df['Label'] = 'Ocean'\n",
    "oceanice_df = df2005.iloc[84:84+24].reset_index(drop=True).astype('float64')\n",
    "oceanice_df['Label'] = 'Ocean Ice'\n",
    "df_ = pd.concat([global_df, land_df, ocean_df, oceanice_df])\n",
    "df_['Period'] = '2091-2100'"
   ]
  },
  {
   "cell_type": "code",
   "execution_count": 324,
   "id": "5d4f7e72",
   "metadata": {},
   "outputs": [],
   "source": [
    "df = pd.concat([df, df_])\n",
    "df['T_SURF_(.1_C)'] *= 0.1\n",
    "df = df.rename(columns = {'T_SURF_(.1_C)' : 'T_SURF_(C)'})"
   ]
  },
  {
   "cell_type": "code",
   "execution_count": 325,
   "id": "ffe14a3d",
   "metadata": {},
   "outputs": [],
   "source": [
    "# label_wid = pn.widgets.Select(name = 'Select', options = list(df.Label.unique()))\n",
    "\n",
    "# def func(df, label_wid):\n",
    "#     df = df [df.Label == label_wid]\n",
    "#     return df\n",
    "\n",
    "# funci = hvplot.bind(func, df, label_wid).interactive()"
   ]
  },
  {
   "cell_type": "markdown",
   "id": "125762de",
   "metadata": {},
   "source": [
    "#### it doesn't work for html files"
   ]
  },
  {
   "cell_type": "code",
   "execution_count": 326,
   "id": "7e26ef21",
   "metadata": {
    "scrolled": true
   },
   "outputs": [],
   "source": [
    "# plt1 = funci.hvplot.line(x = 'Latitude', y = df.columns[1:-1][0], by = 'Period'  )\n",
    "# plt2 = funci.hvplot.line(x = 'Latitude', y = df.columns[1:-1][1], by = 'Period'  )\n",
    "# plt3 = funci.hvplot.line(x = 'Latitude', y = df.columns[1:-1][2], by = 'Period'  )\n",
    "# plt4 = funci.hvplot.line(x = 'Latitude', y = df.columns[1:-1][3], by = 'Period'  )\n",
    "\n",
    "# plt = (plt1+ plt2 + plt3 + plt4).cols(2)\n",
    "\n",
    "# r0 = pn.pane.Markdown('# Average annual values across the same longitude')\n",
    "# r1 = pn.Row(pn.pane.Markdown('## Area '))\n",
    "# r2 = pn.Row(plt, width = 1200)\n",
    "# col_diag1 = pn.Column(r0, r1, r2)\n",
    "# # col_diag1.show()"
   ]
  },
  {
   "cell_type": "code",
   "execution_count": 327,
   "id": "5f84af51",
   "metadata": {},
   "outputs": [
    {
     "name": "stderr",
     "output_type": "stream",
     "text": [
      "C:\\ProgramData\\Miniconda3\\lib\\site-packages\\holoviews\\core\\data\\pandas.py:222: FutureWarning: In a future version of pandas, a length 1 tuple will be returned when iterating over a groupby with a grouper equal to a list of length 1. Don't supply a list with a single grouper to avoid this warning.\n",
      "  data = [(k, group_type(v, **group_kwargs)) for k, v in\n",
      "C:\\ProgramData\\Miniconda3\\lib\\site-packages\\holoviews\\core\\data\\pandas.py:222: FutureWarning: In a future version of pandas, a length 1 tuple will be returned when iterating over a groupby with a grouper equal to a list of length 1. Don't supply a list with a single grouper to avoid this warning.\n",
      "  data = [(k, group_type(v, **group_kwargs)) for k, v in\n",
      "C:\\ProgramData\\Miniconda3\\lib\\site-packages\\holoviews\\core\\data\\pandas.py:222: FutureWarning: In a future version of pandas, a length 1 tuple will be returned when iterating over a groupby with a grouper equal to a list of length 1. Don't supply a list with a single grouper to avoid this warning.\n",
      "  data = [(k, group_type(v, **group_kwargs)) for k, v in\n",
      "C:\\ProgramData\\Miniconda3\\lib\\site-packages\\holoviews\\core\\data\\pandas.py:222: FutureWarning: In a future version of pandas, a length 1 tuple will be returned when iterating over a groupby with a grouper equal to a list of length 1. Don't supply a list with a single grouper to avoid this warning.\n",
      "  data = [(k, group_type(v, **group_kwargs)) for k, v in\n"
     ]
    }
   ],
   "source": [
    "plt1 = df[df.Label == 'Global'].hvplot.line(y = 'Latitude', x = df.columns[1:-1][0], by = 'Period' , shared_axes = False, height = 250)\n",
    "plt2 = df[df.Label == 'Global'].hvplot.line(y = 'Latitude', x = df.columns[1:-1][1], by = 'Period' , shared_axes = False, height = 250)\n",
    "plt3 = df[df.Label == 'Global'].hvplot.line(y = 'Latitude', x = df.columns[1:-1][2], by = 'Period' , shared_axes = False, height = 250)\n",
    "plt4 = df[df.Label == 'Global'].hvplot.line(y = 'Latitude', x = df.columns[1:-1][3], by = 'Period' , shared_axes = False, height = 250)\n",
    "\n",
    "plt = (plt1+ plt2 + plt3 + plt4).cols(2)\n",
    "\n",
    "r0 = pn.pane.Markdown('# Global average annual values across different latitudes')\n",
    "t1 = '''\n",
    "**1.** Smooth increase of <ins>surface temperature and evapotranspiration</ins> towards the equator.\n",
    "<br>\n",
    "**2.** <ins> Precipitation</ins> has a steep decrease in tropical latitudes (+- 30 degrees). That could be due to the fact that the wind currents flow \n",
    "from the tropics to the Equator (intertropical convergence zone).\n",
    "<br>\n",
    "**3.** <ins>High values of runoff</ins> at high latitudes. *The group is unsure about what this could be but wondered if this could be\n",
    "representing the melting ice. Nevertheless, we expected the runoff to be bigger between the tropics.*\n",
    "'''\n",
    "r1 = pn.pane.Markdown( t1, style={'font-size': '1.2em'}, width = 1200)\n",
    "r2 = pn.Row(plt, width = 1200, height = 500)\n",
    "col_diag1a = pn.Column(r0, r1, r2)\n",
    "# col_diag1a.show()\n",
    "tabs.append (('Diagnostic A', col_diag1a))\n"
   ]
  },
  {
   "cell_type": "code",
   "execution_count": 328,
   "id": "96c4980b",
   "metadata": {},
   "outputs": [
    {
     "name": "stderr",
     "output_type": "stream",
     "text": [
      "C:\\ProgramData\\Miniconda3\\lib\\site-packages\\holoviews\\core\\data\\pandas.py:222: FutureWarning: In a future version of pandas, a length 1 tuple will be returned when iterating over a groupby with a grouper equal to a list of length 1. Don't supply a list with a single grouper to avoid this warning.\n",
      "  data = [(k, group_type(v, **group_kwargs)) for k, v in\n",
      "C:\\ProgramData\\Miniconda3\\lib\\site-packages\\holoviews\\core\\data\\pandas.py:222: FutureWarning: In a future version of pandas, a length 1 tuple will be returned when iterating over a groupby with a grouper equal to a list of length 1. Don't supply a list with a single grouper to avoid this warning.\n",
      "  data = [(k, group_type(v, **group_kwargs)) for k, v in\n",
      "C:\\ProgramData\\Miniconda3\\lib\\site-packages\\holoviews\\core\\data\\pandas.py:222: FutureWarning: In a future version of pandas, a length 1 tuple will be returned when iterating over a groupby with a grouper equal to a list of length 1. Don't supply a list with a single grouper to avoid this warning.\n",
      "  data = [(k, group_type(v, **group_kwargs)) for k, v in\n",
      "C:\\ProgramData\\Miniconda3\\lib\\site-packages\\holoviews\\core\\data\\pandas.py:222: FutureWarning: In a future version of pandas, a length 1 tuple will be returned when iterating over a groupby with a grouper equal to a list of length 1. Don't supply a list with a single grouper to avoid this warning.\n",
      "  data = [(k, group_type(v, **group_kwargs)) for k, v in\n"
     ]
    }
   ],
   "source": [
    "plt1 = df[df.Label == 'Ocean'].hvplot.line(y = 'Latitude', x = df.columns[1:-1][0], by = 'Period'  ,shared_axes = False, height = 250)\n",
    "plt2 = df[df.Label == 'Ocean'].hvplot.line(y = 'Latitude', x = df.columns[1:-1][1], by = 'Period'  ,shared_axes = False, height = 250)\n",
    "plt3 = df[df.Label == 'Ocean'].hvplot.line(y = 'Latitude', x = df.columns[1:-1][2], by = 'Period'  ,shared_axes = False, height = 250)\n",
    "plt4 = df[df.Label == 'Ocean'].hvplot.line(y = 'Latitude', x = df.columns[1:-1][3], by = 'Period' ,shared_axes = False, height = 250) \n",
    "\n",
    "plt = (plt1+ plt2 + plt3 + plt4).cols(2)\n",
    "\n",
    "r0 = pn.pane.Markdown('# Ocean average annual values across different latitudes')\n",
    "\n",
    "t1 = '''\n",
    "**1.** <ins> Similar patterns with the decadal with the global</ins>.\n",
    "<br>\n",
    "**2.** No <ins>runoff</ins> is observed in the ocean. \n",
    "<br>\n",
    "**3.** Small decrease of <ins>evaporation</ins> in the Equator, despite the highest temperature.\n",
    "'''\n",
    "\n",
    "r1 = pn.pane.Markdown( t1, style={'font-size': '1.2em'}, width = 1200)\n",
    "r2 = pn.Row(plt, width = 1200, height = 500)\n",
    "col_diag1b = pn.Column(r0, r1, r2, height = 500)\n",
    "# col_diag1b.show()\n",
    "\n",
    "tabs.append (('Diagnostic B', col_diag1b))\n"
   ]
  },
  {
   "cell_type": "code",
   "execution_count": 329,
   "id": "cc70fb5e",
   "metadata": {},
   "outputs": [
    {
     "name": "stderr",
     "output_type": "stream",
     "text": [
      "C:\\ProgramData\\Miniconda3\\lib\\site-packages\\holoviews\\core\\data\\pandas.py:222: FutureWarning: In a future version of pandas, a length 1 tuple will be returned when iterating over a groupby with a grouper equal to a list of length 1. Don't supply a list with a single grouper to avoid this warning.\n",
      "  data = [(k, group_type(v, **group_kwargs)) for k, v in\n",
      "C:\\ProgramData\\Miniconda3\\lib\\site-packages\\holoviews\\core\\data\\pandas.py:222: FutureWarning: In a future version of pandas, a length 1 tuple will be returned when iterating over a groupby with a grouper equal to a list of length 1. Don't supply a list with a single grouper to avoid this warning.\n",
      "  data = [(k, group_type(v, **group_kwargs)) for k, v in\n",
      "C:\\ProgramData\\Miniconda3\\lib\\site-packages\\holoviews\\core\\data\\pandas.py:222: FutureWarning: In a future version of pandas, a length 1 tuple will be returned when iterating over a groupby with a grouper equal to a list of length 1. Don't supply a list with a single grouper to avoid this warning.\n",
      "  data = [(k, group_type(v, **group_kwargs)) for k, v in\n",
      "C:\\ProgramData\\Miniconda3\\lib\\site-packages\\holoviews\\core\\data\\pandas.py:222: FutureWarning: In a future version of pandas, a length 1 tuple will be returned when iterating over a groupby with a grouper equal to a list of length 1. Don't supply a list with a single grouper to avoid this warning.\n",
      "  data = [(k, group_type(v, **group_kwargs)) for k, v in\n"
     ]
    }
   ],
   "source": [
    "plt1 = df[df.Label == 'Land'].hvplot.line(y = 'Latitude', x = df.columns[1:-1][0], by = 'Period' ,shared_axes = False, height = 250) \n",
    "plt2 = df[df.Label == 'Land'].hvplot.line(y = 'Latitude', x = df.columns[1:-1][1], by = 'Period' ,shared_axes = False, height = 250) \n",
    "plt3 = df[df.Label == 'Land'].hvplot.line(y = 'Latitude', x = df.columns[1:-1][2], by = 'Period' ,shared_axes = False, height = 250) \n",
    "plt4 = df[df.Label == 'Land'].hvplot.line(y = 'Latitude', x = df.columns[1:-1][3], by = 'Period' ,shared_axes = False, height = 250) \n",
    "\n",
    "plt = (plt1+ plt2 + plt3 + plt4).cols(2)\n",
    "\n",
    "r0 = pn.pane.Markdown('# Land average annual values across the same longitude')\n",
    "t1 = '''\n",
    "**1.** <ins> Evapotranspiration in the land </ins> might be limited by the available water. \n",
    "The shape of the curve is similar to precipitation.\n",
    "<br>\n",
    "**2.** <ins>Unexpectedly</ins> high peak of runoff in high latitudes of the southern hemisphere.\n",
    "'''\n",
    "r1 = pn.pane.Markdown( t1, style={'font-size': '1.2em'}, width = 1200)\n",
    "r2 = pn.Row(plt, width = 1200, height = 500)\n",
    "col_diag1c = pn.Column(r0, r1, r2)\n",
    "# col_diag1c.show()\n",
    "\n",
    "tabs.append (('Diagnostic C', col_diag1c))"
   ]
  },
  {
   "cell_type": "markdown",
   "id": "7755d1d5",
   "metadata": {},
   "source": [
    "### By Region"
   ]
  },
  {
   "cell_type": "code",
   "execution_count": 330,
   "id": "e1402312",
   "metadata": {},
   "outputs": [],
   "source": [
    "df = pd.read_csv(filesreg[0], header = 6, sep ='\\t',  na_values=['none'],  skipinitialspace = True)\n",
    "df.columns\n",
    "cols = [i.replace(' ', '') for i in list(df.columns)]\n",
    "df.columns = cols\n",
    "df = df [['Region','PRECIP_(MM/DAY)', 'EVAPOR_(MM/DAY)', 'T_SURF_(.1_C)' , 'WATER_RUNOFF_Z0' , 'WATR_RUNOFF_MLD' ]]\n",
    "units = [i.replace(' ', '') for i in list(df.iloc[0,:])]\n",
    "df = df.iloc[2:,:].reset_index(drop = True)\n",
    "cols = [i.replace(' ', '') for i in list(df.columns)]\n",
    "df.columns = cols\n",
    "df ['Period'] = '2005-2020'"
   ]
  },
  {
   "cell_type": "code",
   "execution_count": 331,
   "id": "185b972c",
   "metadata": {},
   "outputs": [],
   "source": [
    "df_ = pd.read_csv(filesreg[1], header = 6, sep ='\\t',  na_values=['none'],  skipinitialspace = True)\n",
    "cols = [i.replace(' ', '') for i in list(df_.columns)]\n",
    "df_.columns = cols\n",
    "df_ = df_ [['Region','PRECIP_(MM/DAY)', 'EVAPOR_(MM/DAY)', 'T_SURF_(.1_C)' , 'WATER_RUNOFF_Z0' , 'WATR_RUNOFF_MLD' ]]\n",
    "units = [i.replace(' ', '') for i in list(df_.iloc[0,:])]\n",
    "df_ = df_.iloc[2:,:].reset_index(drop = True)\n",
    "cols = [i.replace(' ', '') for i in list(df_.columns)]\n",
    "df_.columns = cols\n",
    "df_ ['Period'] = '2091-2100'"
   ]
  },
  {
   "cell_type": "code",
   "execution_count": 332,
   "id": "005fd93d",
   "metadata": {},
   "outputs": [],
   "source": [
    "df = pd.concat([df, df_])"
   ]
  },
  {
   "cell_type": "code",
   "execution_count": 333,
   "id": "220f7750",
   "metadata": {},
   "outputs": [],
   "source": [
    "for  col in df.columns[1:-1]:\n",
    "    df[col] = df[col].astype('float64')\n",
    "    \n",
    "df['T_SURF_(.1_C)'] *= 0.1\n",
    "df = df.rename(columns = {'T_SURF_(.1_C)' : 'T_SURF_(C)'})"
   ]
  },
  {
   "cell_type": "code",
   "execution_count": 334,
   "id": "10215764",
   "metadata": {},
   "outputs": [],
   "source": [
    "table = df.groupby(['Region', 'Period'])['PRECIP_(MM/DAY)'].mean()\n",
    "p_plt = table.hvplot.bar(rot = 90, xticks = 'T', width = 1500, height = 250,grid = True, xlabel ='')\n",
    "\n",
    "table = df.groupby(['Region', 'Period'])['EVAPOR_(MM/DAY)'].mean()\n",
    "etp_plt = table.hvplot.bar(rot = 90, xticks = 'T', width = 1500, height = 250,grid = True, xlabel ='')\n",
    "\n",
    "table = df.groupby(['Region', 'Period'])[df.columns[3]].mean()\n",
    "tsurf_plt = table.hvplot.bar(rot = 90, xticks = 'T', width = 1500, height =250, grid = True)\n",
    "\n",
    "\n",
    "table = df.groupby(['Region', 'Period'])[df.columns[4]].mean()\n",
    "roff1_plt = table.hvplot.bar(rot = 90, xticks = 'T', width = 1800, grid = True)\n",
    "\n",
    "table = df.groupby(['Region', 'Period'])[df.columns[5]].mean()\n",
    "roff2_plt = table.hvplot.bar(rot = 90, xticks = 'T', width = 1800, grid = True)\n",
    "\n",
    "col_diag2 = pn.Column((p_plt + etp_plt + tsurf_plt).cols(1))\n",
    "\n",
    "tabs.append (('Regional diagnostic', col_diag2))"
   ]
  },
  {
   "cell_type": "code",
   "execution_count": 335,
   "id": "62f32603-9416-4554-b386-dab5a5518dbc",
   "metadata": {},
   "outputs": [
    {
     "name": "stdout",
     "output_type": "stream",
     "text": [
      "Launching server at http://localhost:60029\n"
     ]
    },
    {
     "data": {
      "text/plain": [
       "<bokeh.server.server.Server at 0x1b355079d00>"
      ]
     },
     "execution_count": 335,
     "metadata": {},
     "output_type": "execute_result"
    },
    {
     "name": "stderr",
     "output_type": "stream",
     "text": [
      "C:\\ProgramData\\Miniconda3\\lib\\site-packages\\holoviews\\core\\data\\pandas.py:222: FutureWarning: In a future version of pandas, a length 1 tuple will be returned when iterating over a groupby with a grouper equal to a list of length 1. Don't supply a list with a single grouper to avoid this warning.\n",
      "  data = [(k, group_type(v, **group_kwargs)) for k, v in\n",
      "C:\\ProgramData\\Miniconda3\\lib\\site-packages\\holoviews\\core\\data\\pandas.py:222: FutureWarning: In a future version of pandas, a length 1 tuple will be returned when iterating over a groupby with a grouper equal to a list of length 1. Don't supply a list with a single grouper to avoid this warning.\n",
      "  data = [(k, group_type(v, **group_kwargs)) for k, v in\n",
      "C:\\ProgramData\\Miniconda3\\lib\\site-packages\\holoviews\\core\\data\\pandas.py:222: FutureWarning: In a future version of pandas, a length 1 tuple will be returned when iterating over a groupby with a grouper equal to a list of length 1. Don't supply a list with a single grouper to avoid this warning.\n",
      "  data = [(k, group_type(v, **group_kwargs)) for k, v in\n",
      "C:\\ProgramData\\Miniconda3\\lib\\site-packages\\holoviews\\core\\data\\pandas.py:222: FutureWarning: In a future version of pandas, a length 1 tuple will be returned when iterating over a groupby with a grouper equal to a list of length 1. Don't supply a list with a single grouper to avoid this warning.\n",
      "  data = [(k, group_type(v, **group_kwargs)) for k, v in\n",
      "C:\\ProgramData\\Miniconda3\\lib\\site-packages\\holoviews\\core\\data\\pandas.py:222: FutureWarning: In a future version of pandas, a length 1 tuple will be returned when iterating over a groupby with a grouper equal to a list of length 1. Don't supply a list with a single grouper to avoid this warning.\n",
      "  data = [(k, group_type(v, **group_kwargs)) for k, v in\n",
      "C:\\ProgramData\\Miniconda3\\lib\\site-packages\\holoviews\\core\\data\\pandas.py:222: FutureWarning: In a future version of pandas, a length 1 tuple will be returned when iterating over a groupby with a grouper equal to a list of length 1. Don't supply a list with a single grouper to avoid this warning.\n",
      "  data = [(k, group_type(v, **group_kwargs)) for k, v in\n",
      "WARNING:bokeh.core.validation.check:W-1002 (EMPTY_LAYOUT): Layout has no children: Row(id='159906', ...)\n"
     ]
    }
   ],
   "source": [
    "text1 = pn.pane.Markdown ('''\n",
    "# <center>Thank you</center> \n",
    "<br>\n",
    "<br>\n",
    "*<center>Saulo Vieira da Silva Filho \n",
    "<br>\n",
    "Isadora Mendel Freccia\n",
    "<br>\n",
    "Joshua Antonio Fernando</center>*\n",
    "\n",
    "''',\n",
    "                          align = 'center', style = {'font-size' : '1.5em'})\n",
    "\n",
    "\n",
    "r1 = pn.Row(height = 350)\n",
    "r2 = pn.Row( text1)\n",
    "vpage = pn.Column(r1,r2)\n",
    "\n",
    "tabs.append (('Thank You', vpage))\n",
    "\n",
    "tabs.show()"
   ]
  },
  {
   "cell_type": "code",
   "execution_count": 338,
   "id": "ec801f1d-64f7-46c8-99c8-5f6cdf89d5f7",
   "metadata": {},
   "outputs": [],
   "source": [
    "os.chdir('d:\\\\OneDrive\\\\GroundwatCh\\\\TUD\\\\Climate\\\\Modelling\\\\EdGCM\\\\presentation')"
   ]
  },
  {
   "cell_type": "code",
   "execution_count": 336,
   "id": "0bd87a74",
   "metadata": {
    "scrolled": true
   },
   "outputs": [
    {
     "name": "stderr",
     "output_type": "stream",
     "text": [
      "C:\\ProgramData\\Miniconda3\\lib\\site-packages\\holoviews\\core\\data\\pandas.py:222: FutureWarning: In a future version of pandas, a length 1 tuple will be returned when iterating over a groupby with a grouper equal to a list of length 1. Don't supply a list with a single grouper to avoid this warning.\n",
      "  data = [(k, group_type(v, **group_kwargs)) for k, v in\n",
      "C:\\ProgramData\\Miniconda3\\lib\\site-packages\\holoviews\\core\\data\\pandas.py:222: FutureWarning: In a future version of pandas, a length 1 tuple will be returned when iterating over a groupby with a grouper equal to a list of length 1. Don't supply a list with a single grouper to avoid this warning.\n",
      "  data = [(k, group_type(v, **group_kwargs)) for k, v in\n",
      "C:\\ProgramData\\Miniconda3\\lib\\site-packages\\holoviews\\core\\data\\pandas.py:222: FutureWarning: In a future version of pandas, a length 1 tuple will be returned when iterating over a groupby with a grouper equal to a list of length 1. Don't supply a list with a single grouper to avoid this warning.\n",
      "  data = [(k, group_type(v, **group_kwargs)) for k, v in\n",
      "C:\\ProgramData\\Miniconda3\\lib\\site-packages\\holoviews\\core\\data\\pandas.py:222: FutureWarning: In a future version of pandas, a length 1 tuple will be returned when iterating over a groupby with a grouper equal to a list of length 1. Don't supply a list with a single grouper to avoid this warning.\n",
      "  data = [(k, group_type(v, **group_kwargs)) for k, v in\n",
      "C:\\ProgramData\\Miniconda3\\lib\\site-packages\\holoviews\\core\\data\\pandas.py:222: FutureWarning: In a future version of pandas, a length 1 tuple will be returned when iterating over a groupby with a grouper equal to a list of length 1. Don't supply a list with a single grouper to avoid this warning.\n",
      "  data = [(k, group_type(v, **group_kwargs)) for k, v in\n",
      "C:\\ProgramData\\Miniconda3\\lib\\site-packages\\holoviews\\core\\data\\pandas.py:222: FutureWarning: In a future version of pandas, a length 1 tuple will be returned when iterating over a groupby with a grouper equal to a list of length 1. Don't supply a list with a single grouper to avoid this warning.\n",
      "  data = [(k, group_type(v, **group_kwargs)) for k, v in\n",
      "WARNING:bokeh.core.validation.check:W-1002 (EMPTY_LAYOUT): Layout has no children: Row(id='170437', ...)\n"
     ]
    }
   ],
   "source": [
    "tabs.save('presentation.html')"
   ]
  },
  {
   "cell_type": "markdown",
   "id": "9a8f6b6a",
   "metadata": {
    "jp-MarkdownHeadingCollapsed": true,
    "tags": []
   },
   "source": [
    "# Old"
   ]
  },
  {
   "cell_type": "markdown",
   "id": "48605ec8",
   "metadata": {
    "jp-MarkdownHeadingCollapsed": true,
    "tags": []
   },
   "source": [
    "# Control"
   ]
  },
  {
   "cell_type": "code",
   "execution_count": 97,
   "id": "9d359042",
   "metadata": {},
   "outputs": [
    {
     "name": "stderr",
     "output_type": "stream",
     "text": [
      "WARNING:param.Image49857: Image dimension latitude is not evenly sampled to relative tolerance of 0.001. Please use the QuadMesh element for irregularly sampled data or set a higher tolerance on hv.config.image_rtol or the rtol parameter in the Image constructor.\n",
      "WARNING:param.Image49857: Image dimension latitude is not evenly sampled to relative tolerance of 0.001. Please use the QuadMesh element for irregularly sampled data or set a higher tolerance on hv.config.image_rtol or the rtol parameter in the Image constructor.\n",
      "WARNING:param.Image49995: Image dimension latitude is not evenly sampled to relative tolerance of 0.001. Please use the QuadMesh element for irregularly sampled data or set a higher tolerance on hv.config.image_rtol or the rtol parameter in the Image constructor.\n",
      "WARNING:param.Image49995: Image dimension latitude is not evenly sampled to relative tolerance of 0.001. Please use the QuadMesh element for irregularly sampled data or set a higher tolerance on hv.config.image_rtol or the rtol parameter in the Image constructor.\n",
      "WARNING:param.Image50133: Image dimension latitude is not evenly sampled to relative tolerance of 0.001. Please use the QuadMesh element for irregularly sampled data or set a higher tolerance on hv.config.image_rtol or the rtol parameter in the Image constructor.\n",
      "WARNING:param.Image50133: Image dimension latitude is not evenly sampled to relative tolerance of 0.001. Please use the QuadMesh element for irregularly sampled data or set a higher tolerance on hv.config.image_rtol or the rtol parameter in the Image constructor.\n"
     ]
    }
   ],
   "source": [
    "#OPENING\n",
    "ds = xr.open_dataset('Control2005.2001-2010ij.nc')\n",
    "months_lst = list(ds.months.to_numpy())\n",
    "#params\n",
    "width = 700; height = int(width / 2)\n",
    "\n",
    "#frame\n",
    "world = gpd.read_file(gpd.datasets.get_path(\"naturalearth_lowres\")   )\n",
    "\n",
    "#etp\n",
    "da = ds.Evap.sel(months = months_lst[-1] )\n",
    "word_plt = world.hvplot( width = width, height = height , color = None) \n",
    "nc_plot = da.hvplot.image(x = 'longitude', y = 'latitude',\n",
    "                          width = width, height = height, cmap = 'jet', title = 'Annual Evapotranspiration : 2001-2010')\n",
    "yr_etp_plt = (nc_plot * word_plt )\n",
    "\n",
    "\n",
    "#P\n",
    "da = ds.Precip.sel(months = months_lst[-1] )\n",
    "word_plt = world.hvplot( width = width, height = height , color = None) \n",
    "nc_plot = da.hvplot.image(x = 'longitude', y = 'latitude',\n",
    "                          width = width, height = height, cmap = 'jet', title = 'Annual Precipitation : 2001-2010')\n",
    "yr_p_plt = (nc_plot * word_plt )\n",
    "\n",
    "\n",
    "#SAT\n",
    "da = ds.SurfAirTemp.sel(months = months_lst[-1] )\n",
    "word_plt = world.hvplot( width = width, height = height , color = None) \n",
    "nc_plot = da.hvplot.image(x = 'longitude', y = 'latitude',\n",
    "                          width = width, height = height, cmap = 'jet', title = 'Annual Surface air  : 2001-2010')\n",
    "yr_sat_plt = (nc_plot * word_plt )\n",
    "\n",
    "title = pn.pane.Markdown('# Maps - Control Simulations 2001-2010')\n",
    "row1 = pn.Row(yr_etp_plt, yr_p_plt)\n",
    "row2 = pn.Row(pn.Spacer(width=int(width/2)), yr_sat_plt, pn.Spacer(width=int(width/2)))\n",
    "col = pn.Column (title,row1, row2, margin = (0,0,0,0))\n",
    "tabs.append (('Map 2001-2010', col))"
   ]
  },
  {
   "cell_type": "markdown",
   "id": "2989ae7a",
   "metadata": {},
   "source": [
    "### 2CO2 simulation 2010-2020"
   ]
  },
  {
   "cell_type": "code",
   "execution_count": 86,
   "id": "55819684",
   "metadata": {},
   "outputs": [
    {
     "name": "stderr",
     "output_type": "stream",
     "text": [
      "WARNING:param.Image33754: Image dimension latitude is not evenly sampled to relative tolerance of 0.001. Please use the QuadMesh element for irregularly sampled data or set a higher tolerance on hv.config.image_rtol or the rtol parameter in the Image constructor.\n",
      "WARNING:param.Image33754: Image dimension latitude is not evenly sampled to relative tolerance of 0.001. Please use the QuadMesh element for irregularly sampled data or set a higher tolerance on hv.config.image_rtol or the rtol parameter in the Image constructor.\n",
      "WARNING:param.Image33892: Image dimension latitude is not evenly sampled to relative tolerance of 0.001. Please use the QuadMesh element for irregularly sampled data or set a higher tolerance on hv.config.image_rtol or the rtol parameter in the Image constructor.\n",
      "WARNING:param.Image33892: Image dimension latitude is not evenly sampled to relative tolerance of 0.001. Please use the QuadMesh element for irregularly sampled data or set a higher tolerance on hv.config.image_rtol or the rtol parameter in the Image constructor.\n",
      "WARNING:param.Image34030: Image dimension latitude is not evenly sampled to relative tolerance of 0.001. Please use the QuadMesh element for irregularly sampled data or set a higher tolerance on hv.config.image_rtol or the rtol parameter in the Image constructor.\n",
      "WARNING:param.Image34030: Image dimension latitude is not evenly sampled to relative tolerance of 0.001. Please use the QuadMesh element for irregularly sampled data or set a higher tolerance on hv.config.image_rtol or the rtol parameter in the Image constructor.\n"
     ]
    }
   ],
   "source": [
    "#OPENING 2010-2020\n",
    "ds = xr.open_dataset('Doubled_CO2_2.2005-2020ij.nc')\n",
    "months_lst = list(ds.months.to_numpy())\n",
    "\n",
    "#params\n",
    "width = 700; height = int(width / 2)\n",
    "\n",
    "#frame\n",
    "world = gpd.read_file(gpd.datasets.get_path(\"naturalearth_lowres\")   )\n",
    "\n",
    "#etp\n",
    "da = ds.Evap.sel(months = months_lst[-1] )\n",
    "word_plt = world.hvplot( width = width, height = height , color = None) \n",
    "nc_plot = da.hvplot.image(x = 'longitude', y = 'latitude',\n",
    "                          width = width, height = height, cmap = 'jet', title = 'Annual Evapotranspiration : 2005-2020')\n",
    "yr_etp_plt = (nc_plot * word_plt )\n",
    "\n",
    "\n",
    "#P\n",
    "da = ds.Precip.sel(months = months_lst[-1] )\n",
    "word_plt = world.hvplot( width = width, height = height , color = None) \n",
    "nc_plot = da.hvplot.image(x = 'longitude', y = 'latitude',\n",
    "                          width = width, height = height, cmap = 'jet', title = 'Annual Precipitation : 2005-2020')\n",
    "yr_p_plt = (nc_plot * word_plt )\n",
    "\n",
    "\n",
    "#SAT\n",
    "da = ds.SurfAirTemp.sel(months = months_lst[-1] )\n",
    "word_plt = world.hvplot( width = width, height = height , color = None) \n",
    "nc_plot = da.hvplot.image(x = 'longitude', y = 'latitude',\n",
    "                          width = width, height = height, cmap = 'jet', title = 'Annual Surface air  : 2005-2020')\n",
    "yr_sat_plt = (nc_plot * word_plt )\n",
    "\n",
    "\n",
    "title = pn.pane.Markdown('# Maps - Control Simulations 2091-2100')\n",
    "row1 = pn.Row(yr_etp_plt, yr_p_plt)\n",
    "row2 = pn.Row(pn.Spacer(width=int(width/2)), yr_sat_plt, pn.Spacer(width=int(width/2)))\n",
    "col = pn.Column (title,row1, row2, margin = (0,0,0,0))\n",
    "tabs.append (('Map - 2CO2 - 2005-2020', col))"
   ]
  },
  {
   "cell_type": "markdown",
   "id": "e3acf6c6",
   "metadata": {},
   "source": [
    "### 2CO2 simulation 2091-2100"
   ]
  },
  {
   "cell_type": "code",
   "execution_count": 93,
   "id": "f3e6a634",
   "metadata": {},
   "outputs": [
    {
     "name": "stderr",
     "output_type": "stream",
     "text": [
      "WARNING:param.Image41886: Image dimension latitude is not evenly sampled to relative tolerance of 0.001. Please use the QuadMesh element for irregularly sampled data or set a higher tolerance on hv.config.image_rtol or the rtol parameter in the Image constructor.\n",
      "WARNING:param.Image41886: Image dimension latitude is not evenly sampled to relative tolerance of 0.001. Please use the QuadMesh element for irregularly sampled data or set a higher tolerance on hv.config.image_rtol or the rtol parameter in the Image constructor.\n",
      "WARNING:param.Image42024: Image dimension latitude is not evenly sampled to relative tolerance of 0.001. Please use the QuadMesh element for irregularly sampled data or set a higher tolerance on hv.config.image_rtol or the rtol parameter in the Image constructor.\n",
      "WARNING:param.Image42024: Image dimension latitude is not evenly sampled to relative tolerance of 0.001. Please use the QuadMesh element for irregularly sampled data or set a higher tolerance on hv.config.image_rtol or the rtol parameter in the Image constructor.\n",
      "WARNING:param.Image42162: Image dimension latitude is not evenly sampled to relative tolerance of 0.001. Please use the QuadMesh element for irregularly sampled data or set a higher tolerance on hv.config.image_rtol or the rtol parameter in the Image constructor.\n",
      "WARNING:param.Image42162: Image dimension latitude is not evenly sampled to relative tolerance of 0.001. Please use the QuadMesh element for irregularly sampled data or set a higher tolerance on hv.config.image_rtol or the rtol parameter in the Image constructor.\n"
     ]
    }
   ],
   "source": [
    "#OPENING 2010-2020\n",
    "ds = xr.open_dataset('Doubled_CO2_2.2091-2100ij.nc')\n",
    "months_lst = list(ds.months.to_numpy())\n",
    "\n",
    "#params\n",
    "width = 700; height = int(width / 2)\n",
    "\n",
    "#frame\n",
    "world = gpd.read_file(gpd.datasets.get_path(\"naturalearth_lowres\")   )\n",
    "\n",
    "#etp\n",
    "da = ds.Evap.sel(months = months_lst[-1] )\n",
    "word_plt = world.hvplot( width = width, height = height , color = None) \n",
    "nc_plot = da.hvplot.image(x = 'longitude', y = 'latitude',\n",
    "                          width = width, height = height, cmap = 'jet', title = 'Annual Evapotranspiration : 2091-2100')\n",
    "yr_etp_plt = (nc_plot * word_plt )\n",
    "\n",
    "\n",
    "#P\n",
    "da = ds.Precip.sel(months = months_lst[-1] )\n",
    "word_plt = world.hvplot( width = width, height = height , color = None) \n",
    "nc_plot = da.hvplot.image(x = 'longitude', y = 'latitude',\n",
    "                          width = width, height = height, cmap = 'jet', title = 'Annual Precipitation : 2091-2100')\n",
    "yr_p_plt = (nc_plot * word_plt )\n",
    "\n",
    "\n",
    "#SAT\n",
    "da = ds.SurfAirTemp.sel(months = months_lst[-1] )\n",
    "word_plt = world.hvplot( width = width, height = height , color = None) \n",
    "nc_plot = da.hvplot.image(x = 'longitude', y = 'latitude',\n",
    "                          width = width, height = height, cmap = 'jet', title = 'Annual Surface air  : 2091-2100')\n",
    "yr_sat_plt = (nc_plot * word_plt )\n",
    "\n",
    "\n",
    "title = pn.pane.Markdown('# Maps - Control Simulations 2091-2100')\n",
    "row1 = pn.Row(yr_etp_plt, yr_p_plt)\n",
    "row2 = pn.Row(pn.Spacer(width=int(width/2)), yr_sat_plt, pn.Spacer(width=int(width/2)))\n",
    "col = pn.Column (title,row1, row2, margin = (0,0,0,0))\n",
    "tabs.append (('Map - 2CO2 - 2091-2100', col))"
   ]
  },
  {
   "cell_type": "markdown",
   "id": "a5778b75",
   "metadata": {
    "jp-MarkdownHeadingCollapsed": true,
    "tags": []
   },
   "source": [
    "# OLD"
   ]
  },
  {
   "cell_type": "code",
   "execution_count": 613,
   "id": "cfa44383",
   "metadata": {
    "scrolled": true
   },
   "outputs": [
    {
     "data": {
      "text/html": [
       "<div>\n",
       "<style scoped>\n",
       "    .dataframe tbody tr th:only-of-type {\n",
       "        vertical-align: middle;\n",
       "    }\n",
       "\n",
       "    .dataframe tbody tr th {\n",
       "        vertical-align: top;\n",
       "    }\n",
       "\n",
       "    .dataframe thead th {\n",
       "        text-align: right;\n",
       "    }\n",
       "</style>\n",
       "<table border=\"1\" class=\"dataframe\">\n",
       "  <thead>\n",
       "    <tr style=\"text-align: right;\">\n",
       "      <th></th>\n",
       "      <th>latitude</th>\n",
       "      <th>longitude</th>\n",
       "      <th>value</th>\n",
       "    </tr>\n",
       "  </thead>\n",
       "  <tbody>\n",
       "    <tr>\n",
       "      <th>0</th>\n",
       "      <td>90.0</td>\n",
       "      <td>-175.0</td>\n",
       "      <td>0.009888</td>\n",
       "    </tr>\n",
       "    <tr>\n",
       "      <th>1</th>\n",
       "      <td>84.0</td>\n",
       "      <td>-175.0</td>\n",
       "      <td>0.020655</td>\n",
       "    </tr>\n",
       "    <tr>\n",
       "      <th>2</th>\n",
       "      <td>76.0</td>\n",
       "      <td>-175.0</td>\n",
       "      <td>0.024966</td>\n",
       "    </tr>\n",
       "    <tr>\n",
       "      <th>3</th>\n",
       "      <td>68.0</td>\n",
       "      <td>-175.0</td>\n",
       "      <td>0.073261</td>\n",
       "    </tr>\n",
       "    <tr>\n",
       "      <th>4</th>\n",
       "      <td>60.0</td>\n",
       "      <td>-175.0</td>\n",
       "      <td>1.902786</td>\n",
       "    </tr>\n",
       "  </tbody>\n",
       "</table>\n",
       "</div>"
      ],
      "text/plain": [
       "   latitude longitude     value\n",
       "0      90.0    -175.0  0.009888\n",
       "1      84.0    -175.0  0.020655\n",
       "2      76.0    -175.0  0.024966\n",
       "3      68.0    -175.0  0.073261\n",
       "4      60.0    -175.0  1.902786"
      ]
     },
     "execution_count": 613,
     "metadata": {},
     "output_type": "execute_result"
    }
   ],
   "source": [
    "df = pd.DataFrame(da)\n",
    "df.index = da.latitude\n",
    "df.columns = da.longitude\n",
    "df = df.sort_index(ascending = False)\n",
    "df = df.reset_index().rename(columns = {'index' : 'latitude'})\n",
    "df = pd.melt(df, id_vars = ['latitude'], var_name = 'longitude')\n",
    "df.head()"
   ]
  },
  {
   "cell_type": "code",
   "execution_count": 614,
   "id": "9616213d",
   "metadata": {},
   "outputs": [],
   "source": [
    "xx, yy = np.mgrid[da.longitude.to_numpy().min():da.longitude.to_numpy().max():da.longitude.size*10j,\n",
    "                  da.latitude.to_numpy().min():da.latitude.to_numpy().max():da.latitude.size*10j]\n",
    "\n",
    "z =  griddata(np.array(df[['latitude', 'longitude']]), \n",
    "              np.array(df['value']),\n",
    "                       (xx, yy),\n",
    "                       method='linear')"
   ]
  },
  {
   "cell_type": "code",
   "execution_count": 635,
   "id": "a9dc7980",
   "metadata": {},
   "outputs": [],
   "source": [
    "da =xr.Dataset(\n",
    "    data_vars = dict (\n",
    "        value = (['x','y'], z),\n",
    "        ),\n",
    "    coords = dict (\n",
    "        Lat = (['x','y'], yy),\n",
    "        Lon = (['x','y'], xx)\n",
    "    )\n",
    ").value"
   ]
  },
  {
   "cell_type": "code",
   "execution_count": 291,
   "id": "e5647b9c",
   "metadata": {},
   "outputs": [],
   "source": [
    "# fig = plt.figure(figsize = (25,10))\n",
    "# ax = plt.axes(projection=ccrs.PlateCarree())\n",
    "# ax.coastlines() \n",
    "# da.plot()\n",
    "# plt.show()"
   ]
  }
 ],
 "metadata": {
  "celltoolbar": "Slideshow",
  "kernelspec": {
   "display_name": "Python 3 (ipykernel)",
   "language": "python",
   "name": "python3"
  },
  "language_info": {
   "codemirror_mode": {
    "name": "ipython",
    "version": 3
   },
   "file_extension": ".py",
   "mimetype": "text/x-python",
   "name": "python",
   "nbconvert_exporter": "python",
   "pygments_lexer": "ipython3",
   "version": "3.9.13"
  }
 },
 "nbformat": 4,
 "nbformat_minor": 5
}
